{
 "cells": [
  {
   "cell_type": "markdown",
   "metadata": {},
   "source": [
    "# VacationPy\n",
    "----\n",
    "\n",
    "#### Note\n",
    "* Keep an eye on your API usage. Use https://developers.google.com/maps/reporting/gmp-reporting as reference for how to monitor your usage and billing.\n",
    "\n",
    "* Instructions have been included for each segment. You do not have to follow them exactly, but they are included to help you think through the steps."
   ]
  },
  {
   "cell_type": "code",
   "execution_count": 1,
   "metadata": {},
   "outputs": [],
   "source": [
    "# Dependencies and Setup\n",
    "import matplotlib.pyplot as plt\n",
    "import pandas as pd\n",
    "import numpy as np\n",
    "import requests\n",
    "import gmaps\n",
    "import os\n",
    "import json\n",
    "\n",
    "# Import API key\n",
    "from config import g_key"
   ]
  },
  {
   "cell_type": "markdown",
   "metadata": {},
   "source": [
    "### Store Part I results into DataFrame\n",
    "* Load the csv exported in Part I to a DataFrame"
   ]
  },
  {
   "cell_type": "code",
   "execution_count": 2,
   "metadata": {},
   "outputs": [
    {
     "data": {
      "text/html": [
       "<div>\n",
       "<style scoped>\n",
       "    .dataframe tbody tr th:only-of-type {\n",
       "        vertical-align: middle;\n",
       "    }\n",
       "\n",
       "    .dataframe tbody tr th {\n",
       "        vertical-align: top;\n",
       "    }\n",
       "\n",
       "    .dataframe thead th {\n",
       "        text-align: right;\n",
       "    }\n",
       "</style>\n",
       "<table border=\"1\" class=\"dataframe\">\n",
       "  <thead>\n",
       "    <tr style=\"text-align: right;\">\n",
       "      <th></th>\n",
       "      <th>City Name</th>\n",
       "      <th>Latitude</th>\n",
       "      <th>Longitude</th>\n",
       "      <th>Max Temp. (F)</th>\n",
       "      <th>Humidity (%)</th>\n",
       "      <th>Cloudiness (%)</th>\n",
       "      <th>Wind Speed (mph)</th>\n",
       "      <th>Country</th>\n",
       "      <th>Date (UTC)</th>\n",
       "    </tr>\n",
       "  </thead>\n",
       "  <tbody>\n",
       "    <tr>\n",
       "      <th>0</th>\n",
       "      <td>Tuktoyaktuk</td>\n",
       "      <td>69.4541</td>\n",
       "      <td>-133.0374</td>\n",
       "      <td>-34.60</td>\n",
       "      <td>67</td>\n",
       "      <td>75</td>\n",
       "      <td>11.50</td>\n",
       "      <td>CA</td>\n",
       "      <td>1612477285</td>\n",
       "    </tr>\n",
       "    <tr>\n",
       "      <th>1</th>\n",
       "      <td>Mataura</td>\n",
       "      <td>-46.1927</td>\n",
       "      <td>168.8643</td>\n",
       "      <td>60.24</td>\n",
       "      <td>56</td>\n",
       "      <td>36</td>\n",
       "      <td>3.87</td>\n",
       "      <td>NZ</td>\n",
       "      <td>1612477562</td>\n",
       "    </tr>\n",
       "    <tr>\n",
       "      <th>2</th>\n",
       "      <td>Cidreira</td>\n",
       "      <td>-30.1811</td>\n",
       "      <td>-50.2056</td>\n",
       "      <td>70.14</td>\n",
       "      <td>77</td>\n",
       "      <td>57</td>\n",
       "      <td>21.21</td>\n",
       "      <td>BR</td>\n",
       "      <td>1612477562</td>\n",
       "    </tr>\n",
       "    <tr>\n",
       "      <th>3</th>\n",
       "      <td>Saskylakh</td>\n",
       "      <td>71.9167</td>\n",
       "      <td>114.0833</td>\n",
       "      <td>-40.85</td>\n",
       "      <td>76</td>\n",
       "      <td>0</td>\n",
       "      <td>3.58</td>\n",
       "      <td>RU</td>\n",
       "      <td>1612477562</td>\n",
       "    </tr>\n",
       "    <tr>\n",
       "      <th>4</th>\n",
       "      <td>Atuona</td>\n",
       "      <td>-9.8000</td>\n",
       "      <td>-139.0333</td>\n",
       "      <td>78.82</td>\n",
       "      <td>69</td>\n",
       "      <td>59</td>\n",
       "      <td>10.92</td>\n",
       "      <td>PF</td>\n",
       "      <td>1612477563</td>\n",
       "    </tr>\n",
       "  </tbody>\n",
       "</table>\n",
       "</div>"
      ],
      "text/plain": [
       "     City Name  Latitude  Longitude  Max Temp. (F)  Humidity (%)  \\\n",
       "0  Tuktoyaktuk   69.4541  -133.0374         -34.60            67   \n",
       "1      Mataura  -46.1927   168.8643          60.24            56   \n",
       "2     Cidreira  -30.1811   -50.2056          70.14            77   \n",
       "3    Saskylakh   71.9167   114.0833         -40.85            76   \n",
       "4       Atuona   -9.8000  -139.0333          78.82            69   \n",
       "\n",
       "   Cloudiness (%)  Wind Speed (mph) Country  Date (UTC)  \n",
       "0              75             11.50      CA  1612477285  \n",
       "1              36              3.87      NZ  1612477562  \n",
       "2              57             21.21      BR  1612477562  \n",
       "3               0              3.58      RU  1612477562  \n",
       "4              59             10.92      PF  1612477563  "
      ]
     },
     "execution_count": 2,
     "metadata": {},
     "output_type": "execute_result"
    }
   ],
   "source": [
    "weather_data = pd.read_csv(\"cities.csv\", encoding = \"utf-8\")\n",
    "weather_data.head()"
   ]
  },
  {
   "cell_type": "markdown",
   "metadata": {},
   "source": [
    "### Humidity Heatmap\n",
    "* Configure gmaps.\n",
    "* Use the Lat and Lng as locations and Humidity as the weight.\n",
    "* Add Heatmap layer to map."
   ]
  },
  {
   "cell_type": "code",
   "execution_count": 3,
   "metadata": {},
   "outputs": [],
   "source": [
    "gmaps.configure(api_key=g_key)"
   ]
  },
  {
   "cell_type": "code",
   "execution_count": 4,
   "metadata": {},
   "outputs": [],
   "source": [
    "locations = weather_data[[\"Latitude\", \"Longitude\"]].astype(float)\n",
    "humidity = weather_data[\"Humidity (%)\"].astype(float)"
   ]
  },
  {
   "cell_type": "code",
   "execution_count": 5,
   "metadata": {},
   "outputs": [
    {
     "data": {
      "application/vnd.jupyter.widget-view+json": {
       "model_id": "3c12a4373bcc459784db856b522b96e5",
       "version_major": 2,
       "version_minor": 0
      },
      "text/plain": [
       "Figure(layout=FigureLayout(height='420px'))"
      ]
     },
     "metadata": {},
     "output_type": "display_data"
    }
   ],
   "source": [
    "fig = gmaps.figure(zoom_level=1.9, center=(25,0))\n",
    "\n",
    "heat_layer = gmaps.heatmap_layer(locations,\n",
    "                                 weights=humidity,\n",
    "                                 dissipating=False,\n",
    "                                 max_intensity=100,\n",
    "                                 point_radius=2)\n",
    "fig.add_layer(heat_layer)\n",
    "fig"
   ]
  },
  {
   "cell_type": "markdown",
   "metadata": {},
   "source": [
    "### Create new DataFrame fitting weather criteria\n",
    "* Narrow down the cities to fit weather conditions.\n",
    "* Drop any rows will null values."
   ]
  },
  {
   "cell_type": "code",
   "execution_count": 6,
   "metadata": {},
   "outputs": [
    {
     "data": {
      "text/html": [
       "<div>\n",
       "<style scoped>\n",
       "    .dataframe tbody tr th:only-of-type {\n",
       "        vertical-align: middle;\n",
       "    }\n",
       "\n",
       "    .dataframe tbody tr th {\n",
       "        vertical-align: top;\n",
       "    }\n",
       "\n",
       "    .dataframe thead th {\n",
       "        text-align: right;\n",
       "    }\n",
       "</style>\n",
       "<table border=\"1\" class=\"dataframe\">\n",
       "  <thead>\n",
       "    <tr style=\"text-align: right;\">\n",
       "      <th></th>\n",
       "      <th>City Name</th>\n",
       "      <th>Latitude</th>\n",
       "      <th>Longitude</th>\n",
       "      <th>Max Temp. (F)</th>\n",
       "      <th>Humidity (%)</th>\n",
       "      <th>Cloudiness (%)</th>\n",
       "      <th>Wind Speed (mph)</th>\n",
       "      <th>Country</th>\n",
       "      <th>Date (UTC)</th>\n",
       "    </tr>\n",
       "  </thead>\n",
       "  <tbody>\n",
       "    <tr>\n",
       "      <th>127</th>\n",
       "      <td>Aboso</td>\n",
       "      <td>5.3617</td>\n",
       "      <td>-1.9473</td>\n",
       "      <td>76.32</td>\n",
       "      <td>92</td>\n",
       "      <td>1</td>\n",
       "      <td>3.65</td>\n",
       "      <td>GH</td>\n",
       "      <td>1612477592</td>\n",
       "    </tr>\n",
       "    <tr>\n",
       "      <th>318</th>\n",
       "      <td>Guánica</td>\n",
       "      <td>17.9716</td>\n",
       "      <td>-66.9080</td>\n",
       "      <td>80.01</td>\n",
       "      <td>76</td>\n",
       "      <td>9</td>\n",
       "      <td>1.99</td>\n",
       "      <td>PR</td>\n",
       "      <td>1612477636</td>\n",
       "    </tr>\n",
       "    <tr>\n",
       "      <th>478</th>\n",
       "      <td>Port Macquarie</td>\n",
       "      <td>-31.4333</td>\n",
       "      <td>152.9167</td>\n",
       "      <td>78.01</td>\n",
       "      <td>78</td>\n",
       "      <td>15</td>\n",
       "      <td>1.01</td>\n",
       "      <td>AU</td>\n",
       "      <td>1612477674</td>\n",
       "    </tr>\n",
       "  </tbody>\n",
       "</table>\n",
       "</div>"
      ],
      "text/plain": [
       "          City Name  Latitude  Longitude  Max Temp. (F)  Humidity (%)  \\\n",
       "127           Aboso    5.3617    -1.9473          76.32            92   \n",
       "318         Guánica   17.9716   -66.9080          80.01            76   \n",
       "478  Port Macquarie  -31.4333   152.9167          78.01            78   \n",
       "\n",
       "     Cloudiness (%)  Wind Speed (mph) Country  Date (UTC)  \n",
       "127               1              3.65      GH  1612477592  \n",
       "318               9              1.99      PR  1612477636  \n",
       "478              15              1.01      AU  1612477674  "
      ]
     },
     "execution_count": 6,
     "metadata": {},
     "output_type": "execute_result"
    }
   ],
   "source": [
    "# reduce dataframe to include only cities matching a certain criteria\n",
    "# max temp>=75, <85\n",
    "# wind speed<5mph\n",
    "# cloudiness<= 5\n",
    "\n",
    "reduced_wd = weather_data.loc[(weather_data[\"Max Temp. (F)\"]>=75) &\n",
    "                             (weather_data[\"Max Temp. (F)\"]<85) &\n",
    "                             (weather_data[\"Wind Speed (mph)\"]<5) &\n",
    "                              (weather_data[\"Cloudiness (%)\"]<=15)]\n",
    "reduced_wd"
   ]
  },
  {
   "cell_type": "markdown",
   "metadata": {},
   "source": [
    "### Hotel Map\n",
    "* Store into variable named `hotel_df`.\n",
    "* Add a \"Hotel Name\" column to the DataFrame.\n",
    "* Set parameters to search for hotels with 5000 meters.\n",
    "* Hit the Google Places API for each city's coordinates.\n",
    "* Store the first Hotel result into the DataFrame.\n",
    "* Plot markers on top of the heatmap."
   ]
  },
  {
   "cell_type": "code",
   "execution_count": 7,
   "metadata": {},
   "outputs": [
    {
     "data": {
      "text/html": [
       "<div>\n",
       "<style scoped>\n",
       "    .dataframe tbody tr th:only-of-type {\n",
       "        vertical-align: middle;\n",
       "    }\n",
       "\n",
       "    .dataframe tbody tr th {\n",
       "        vertical-align: top;\n",
       "    }\n",
       "\n",
       "    .dataframe thead th {\n",
       "        text-align: right;\n",
       "    }\n",
       "</style>\n",
       "<table border=\"1\" class=\"dataframe\">\n",
       "  <thead>\n",
       "    <tr style=\"text-align: right;\">\n",
       "      <th></th>\n",
       "      <th>City Name</th>\n",
       "      <th>Latitude</th>\n",
       "      <th>Longitude</th>\n",
       "      <th>Max Temp. (F)</th>\n",
       "      <th>Humidity (%)</th>\n",
       "      <th>Cloudiness (%)</th>\n",
       "      <th>Wind Speed (mph)</th>\n",
       "      <th>Country</th>\n",
       "      <th>Date (UTC)</th>\n",
       "      <th>Hotel Name</th>\n",
       "    </tr>\n",
       "  </thead>\n",
       "  <tbody>\n",
       "    <tr>\n",
       "      <th>127</th>\n",
       "      <td>Aboso</td>\n",
       "      <td>5.3617</td>\n",
       "      <td>-1.9473</td>\n",
       "      <td>76.32</td>\n",
       "      <td>92</td>\n",
       "      <td>1</td>\n",
       "      <td>3.65</td>\n",
       "      <td>GH</td>\n",
       "      <td>1612477592</td>\n",
       "      <td></td>\n",
       "    </tr>\n",
       "    <tr>\n",
       "      <th>318</th>\n",
       "      <td>Guánica</td>\n",
       "      <td>17.9716</td>\n",
       "      <td>-66.9080</td>\n",
       "      <td>80.01</td>\n",
       "      <td>76</td>\n",
       "      <td>9</td>\n",
       "      <td>1.99</td>\n",
       "      <td>PR</td>\n",
       "      <td>1612477636</td>\n",
       "      <td></td>\n",
       "    </tr>\n",
       "    <tr>\n",
       "      <th>478</th>\n",
       "      <td>Port Macquarie</td>\n",
       "      <td>-31.4333</td>\n",
       "      <td>152.9167</td>\n",
       "      <td>78.01</td>\n",
       "      <td>78</td>\n",
       "      <td>15</td>\n",
       "      <td>1.01</td>\n",
       "      <td>AU</td>\n",
       "      <td>1612477674</td>\n",
       "      <td></td>\n",
       "    </tr>\n",
       "  </tbody>\n",
       "</table>\n",
       "</div>"
      ],
      "text/plain": [
       "          City Name  Latitude  Longitude  Max Temp. (F)  Humidity (%)  \\\n",
       "127           Aboso    5.3617    -1.9473          76.32            92   \n",
       "318         Guánica   17.9716   -66.9080          80.01            76   \n",
       "478  Port Macquarie  -31.4333   152.9167          78.01            78   \n",
       "\n",
       "     Cloudiness (%)  Wind Speed (mph) Country  Date (UTC) Hotel Name  \n",
       "127               1              3.65      GH  1612477592             \n",
       "318               9              1.99      PR  1612477636             \n",
       "478              15              1.01      AU  1612477674             "
      ]
     },
     "execution_count": 7,
     "metadata": {},
     "output_type": "execute_result"
    }
   ],
   "source": [
    "hotel_df = reduced_wd.copy()\n",
    "hotel_df[\"Hotel Name\"] = \"\"\n",
    "params = {\"radius\": 5000,\n",
    "         \"types\": \"hotel\",\n",
    "          \"key\":g_key\n",
    "         }\n",
    "hotel_df.dropna()\n",
    "hotel_df"
   ]
  },
  {
   "cell_type": "code",
   "execution_count": null,
   "metadata": {},
   "outputs": [],
   "source": []
  },
  {
   "cell_type": "code",
   "execution_count": 14,
   "metadata": {},
   "outputs": [],
   "source": [
    "# NOTE: Do not change any of the code in this cell\n",
    "\n",
    "# Using the template add the hotel marks to the heatmap\n",
    "info_box_template = \"\"\"\n",
    "<dl>\n",
    "<dt>Hotel Name</dt><dd>{Hotel Name}</dd>\n",
    "<dt>City</dt><dd>{City Name}</dd>\n",
    "<dt>Country</dt><dd>{Country}</dd>\n",
    "</dl>\n",
    "\"\"\"\n",
    "# Store the DataFrame Row\n",
    "# NOTE: be sure to update with your DataFrame name\n",
    "hotel_info = [info_box_template.format(**row) for index, row in hotel_df.iterrows()]\n",
    "locations = hotel_df[[\"Latitude\", \"Longitude\"]]"
   ]
  },
  {
   "cell_type": "code",
   "execution_count": 15,
   "metadata": {
    "scrolled": true
   },
   "outputs": [
    {
     "data": {
      "text/html": [
       "<div>\n",
       "<style scoped>\n",
       "    .dataframe tbody tr th:only-of-type {\n",
       "        vertical-align: middle;\n",
       "    }\n",
       "\n",
       "    .dataframe tbody tr th {\n",
       "        vertical-align: top;\n",
       "    }\n",
       "\n",
       "    .dataframe thead th {\n",
       "        text-align: right;\n",
       "    }\n",
       "</style>\n",
       "<table border=\"1\" class=\"dataframe\">\n",
       "  <thead>\n",
       "    <tr style=\"text-align: right;\">\n",
       "      <th></th>\n",
       "      <th>City Name</th>\n",
       "      <th>Latitude</th>\n",
       "      <th>Longitude</th>\n",
       "      <th>Max Temp. (F)</th>\n",
       "      <th>Humidity (%)</th>\n",
       "      <th>Cloudiness (%)</th>\n",
       "      <th>Wind Speed (mph)</th>\n",
       "      <th>Country</th>\n",
       "      <th>Date (UTC)</th>\n",
       "      <th>Hotel Name</th>\n",
       "    </tr>\n",
       "  </thead>\n",
       "  <tbody>\n",
       "    <tr>\n",
       "      <th>127</th>\n",
       "      <td>Aboso</td>\n",
       "      <td>5.3617</td>\n",
       "      <td>-1.9473</td>\n",
       "      <td>76.32</td>\n",
       "      <td>92</td>\n",
       "      <td>1</td>\n",
       "      <td>3.65</td>\n",
       "      <td>GH</td>\n",
       "      <td>1612477592</td>\n",
       "      <td>Prestea- Huni Valley District</td>\n",
       "    </tr>\n",
       "    <tr>\n",
       "      <th>318</th>\n",
       "      <td>Guánica</td>\n",
       "      <td>17.9716</td>\n",
       "      <td>-66.9080</td>\n",
       "      <td>80.01</td>\n",
       "      <td>76</td>\n",
       "      <td>9</td>\n",
       "      <td>1.99</td>\n",
       "      <td>PR</td>\n",
       "      <td>1612477636</td>\n",
       "      <td>Guanica</td>\n",
       "    </tr>\n",
       "    <tr>\n",
       "      <th>478</th>\n",
       "      <td>Port Macquarie</td>\n",
       "      <td>-31.4333</td>\n",
       "      <td>152.9167</td>\n",
       "      <td>78.01</td>\n",
       "      <td>78</td>\n",
       "      <td>15</td>\n",
       "      <td>1.01</td>\n",
       "      <td>AU</td>\n",
       "      <td>1612477674</td>\n",
       "      <td>Port Macquarie</td>\n",
       "    </tr>\n",
       "  </tbody>\n",
       "</table>\n",
       "</div>"
      ],
      "text/plain": [
       "          City Name  Latitude  Longitude  Max Temp. (F)  Humidity (%)  \\\n",
       "127           Aboso    5.3617    -1.9473          76.32            92   \n",
       "318         Guánica   17.9716   -66.9080          80.01            76   \n",
       "478  Port Macquarie  -31.4333   152.9167          78.01            78   \n",
       "\n",
       "     Cloudiness (%)  Wind Speed (mph) Country  Date (UTC)  \\\n",
       "127               1              3.65      GH  1612477592   \n",
       "318               9              1.99      PR  1612477636   \n",
       "478              15              1.01      AU  1612477674   \n",
       "\n",
       "                        Hotel Name  \n",
       "127  Prestea- Huni Valley District  \n",
       "318                        Guanica  \n",
       "478                 Port Macquarie  "
      ]
     },
     "execution_count": 15,
     "metadata": {},
     "output_type": "execute_result"
    }
   ],
   "source": [
    "# https://maps.googleapis.com/maps/api/place/nearbysearch/output?parameters\n",
    "for index, row in hotel_df.iterrows():\n",
    "    lat = row[\"Latitude\"]\n",
    "    lng = row[\"Longitude\"]\n",
    "    \n",
    "    params[\"location\"] = f\"{lat},{lng}\"\n",
    "    \n",
    "    base_url = \"https://maps.googleapis.com/maps/api/place/nearbysearch/json?\"\n",
    "    \n",
    "    hotel_name = requests.get(base_url, params=params)\n",
    "    hotel_name = hotel_name.json()\n",
    "#     print(json.dumps(hotel_name, indent=4, sort_keys=True))\n",
    "    \n",
    "    try:\n",
    "        hotel_df.loc[index, \"Hotel Name\"] = hotel_name[\"results\"][0][\"name\"]\n",
    "    except:\n",
    "        print(\"Missing field/result... skipping.\")\n",
    "hotel_df"
   ]
  },
  {
   "cell_type": "code",
   "execution_count": 16,
   "metadata": {},
   "outputs": [
    {
     "data": {
      "application/vnd.jupyter.widget-view+json": {
       "model_id": "3c12a4373bcc459784db856b522b96e5",
       "version_major": 2,
       "version_minor": 0
      },
      "text/plain": [
       "Figure(layout=FigureLayout(height='420px'))"
      ]
     },
     "metadata": {},
     "output_type": "display_data"
    }
   ],
   "source": [
    "markers = gmaps.marker_layer(locations, info_box_content = [f\"{hotel}\" for hotel in hotel_info])\n",
    "fig.add_layer(markers)\n",
    "fig"
   ]
  },
  {
   "cell_type": "code",
   "execution_count": null,
   "metadata": {},
   "outputs": [],
   "source": []
  }
 ],
 "metadata": {
  "kernelspec": {
   "display_name": "Python 3",
   "language": "python",
   "name": "python3"
  },
  "language_info": {
   "codemirror_mode": {
    "name": "ipython",
    "version": 3
   },
   "file_extension": ".py",
   "mimetype": "text/x-python",
   "name": "python",
   "nbconvert_exporter": "python",
   "pygments_lexer": "ipython3",
   "version": "3.6.10"
  },
  "latex_envs": {
   "LaTeX_envs_menu_present": true,
   "autoclose": false,
   "autocomplete": true,
   "bibliofile": "biblio.bib",
   "cite_by": "apalike",
   "current_citInitial": 1,
   "eqLabelWithNumbers": true,
   "eqNumInitial": 1,
   "hotkeys": {
    "equation": "Ctrl-E",
    "itemize": "Ctrl-I"
   },
   "labels_anchors": false,
   "latex_user_defs": false,
   "report_style_numbering": false,
   "user_envs_cfg": false
  }
 },
 "nbformat": 4,
 "nbformat_minor": 4
}
